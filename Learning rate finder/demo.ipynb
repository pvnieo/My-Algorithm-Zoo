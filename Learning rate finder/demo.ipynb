{
  "nbformat": 4,
  "nbformat_minor": 0,
  "metadata": {
    "colab": {
      "name": "learning rate finder",
      "version": "0.3.2",
      "provenance": [],
      "collapsed_sections": []
    },
    "kernelspec": {
      "name": "python3",
      "display_name": "Python 3"
    },
    "accelerator": "GPU"
  },
  "cells": [
    {
      "cell_type": "markdown",
      "metadata": {
        "id": "9Rza8apmpxGG",
        "colab_type": "text"
      },
      "source": [
        "# Learning rate finder\n",
        "\n",
        "During the training of neural networks, one of the most important hyperparameters, and which largely influences the convergence of the latter, is the learning rate. Choosing a good learning rate is not a simple task, and it is often done using a grid search. However, this can take a long time, especially if the network is very large.\n",
        "\n",
        "In his paper \"[Cyclical Learning Rates for Training Neural Networks](https://arxiv.org/pdf/1506.01186.pdf)\", Leslie Smith presented a method for finding a good learning rate for the majority of gradient based optimizers.\n",
        "\n",
        "This method consists in starting the training of the network with a very small learning rate (10-8 for example), and increasing it exponentially with each mini-batch, until reaching a large value (1 or 10), or until the loss diverges (practically, we stop the loop if the loss reached is 4 or 5 times greater than the minimum loss we obtained).\n",
        "\n",
        "At the end of the loop, a learning rate is chosen in the region where the loss was minimal. In practice, we take a value an order of magnitude smaller than the one that gave the minimum loss, a value that is always aggressive (to train quickly) but that remains safe in case of an explosion.\n",
        "\n",
        "In the following, we will demonstrate the usefulness of this method by using an implementation of this method that we have done. You can find this implementation [here](https://github.com/pvnieo/My-Algorithm-Zoo/blob/master/Learning%20rate%20finder/lr_finder.py)."
      ]
    },
    {
      "cell_type": "markdown",
      "metadata": {
        "id": "06gBof3j2iTS",
        "colab_type": "text"
      },
      "source": [
        "## Demo time\n",
        "\n",
        "First of all, let's start by importing the necessary packages."
      ]
    },
    {
      "cell_type": "code",
      "metadata": {
        "id": "tWTgGYX5WIG0",
        "colab_type": "code",
        "colab": {}
      },
      "source": [
        "# stdlib\n",
        "import time\n",
        "import warnings\n",
        "import copy\n",
        "from collections import defaultdict\n",
        "# 3p\n",
        "import numpy as np\n",
        "from tabulate import tabulate\n",
        "import matplotlib.pyplot as plt\n",
        "from tqdm import tqdm\n",
        "import torch\n",
        "import torchvision\n",
        "import torch.nn as nn\n",
        "import torch.nn.functional as F\n",
        "import torch.optim as optim\n",
        "\n",
        "# project\n",
        "from lr_finder import LRFinder\n",
        "\n",
        "warnings.filterwarnings('ignore')\n",
        "%reload_ext autoreload\n",
        "%autoreload 2\n",
        "%matplotlib inline"
      ],
      "execution_count": 0,
      "outputs": []
    },
    {
      "cell_type": "markdown",
      "metadata": {
        "id": "iENNXgbN4q8k",
        "colab_type": "text"
      },
      "source": [
        "For this demonstration, we will use the MNIST dataset, and we will implement a very simple neural network using pytorch. \n",
        "\n",
        "First of all, we define the data loaders and the transformations we will use later."
      ]
    },
    {
      "cell_type": "code",
      "metadata": {
        "id": "N4Nhn9ZqWU-0",
        "colab_type": "code",
        "colab": {}
      },
      "source": [
        "batch_size_train = 64\n",
        "batch_size_test = 1000\n",
        "## creating dataloaders\n",
        "train_loader = torch.utils.data.DataLoader(\n",
        "  torchvision.datasets.MNIST('/files/', train=True, download=True,\n",
        "                             transform=torchvision.transforms.Compose([\n",
        "                             torchvision.transforms.ToTensor(),\n",
        "                             torchvision.transforms.Normalize(\n",
        "                               (0.1307,), (0.3081,))\n",
        "                             ])),\n",
        "  batch_size=batch_size_train, shuffle=True)\n",
        "\n",
        "val_loader = torch.utils.data.DataLoader(\n",
        "  torchvision.datasets.MNIST('/files/', train=False, download=True,\n",
        "                             transform=torchvision.transforms.Compose([\n",
        "                               torchvision.transforms.ToTensor(),\n",
        "                               torchvision.transforms.Normalize(\n",
        "                                 (0.1307,), (0.3081,))\n",
        "                             ])),\n",
        "  batch_size=batch_size_test, shuffle=True)\n",
        "dataloaders = {\"train\": train_loader, \"val\": val_loader}"
      ],
      "execution_count": 0,
      "outputs": []
    },
    {
      "cell_type": "code",
      "metadata": {
        "id": "Lpk8e3BhXIrN",
        "colab_type": "code",
        "outputId": "52b1a539-111e-407e-cc56-a99d8878188c",
        "colab": {
          "base_uri": "https://localhost:8080/",
          "height": 551
        }
      },
      "source": [
        "examples = enumerate(val_loader)\n",
        "batch_idx, (example_data, example_targets) = next(examples)\n",
        "fig = plt.figure()\n",
        "for i in range(6):\n",
        "  plt.subplot(2,3,i+1)\n",
        "  plt.tight_layout()\n",
        "  plt.imshow(example_data[i][0], cmap='gray', interpolation='none')\n",
        "  plt.title(\"Ground Truth: {}\".format(example_targets[i]))\n",
        "  plt.xticks([])\n",
        "  plt.yticks([])\n",
        "fig"
      ],
      "execution_count": 6,
      "outputs": [
        {
          "output_type": "execute_result",
          "data": {
            "image/png": "[encoded data removed]",
            "text/plain": [
              "<Figure size 432x288 with 6 Axes>"
            ]
          },
          "metadata": {
            "tags": []
          },
          "execution_count": 6
        },
        {
          "output_type": "display_data",
          "data": {
            "image/png": "[encoded data removed]",
            "text/plain": [
              "<Figure size 432x288 with 6 Axes>"
            ]
          },
          "metadata": {
            "tags": []
          }
        }
      ]
    },
    {
      "cell_type": "markdown",
      "metadata": {
        "id": "yNaPlCE25iiw",
        "colab_type": "text"
      },
      "source": [
        "Now let's build the network. We will use a simple network, with three convolution layers, and two fully connected layers."
      ]
    },
    {
      "cell_type": "code",
      "metadata": {
        "id": "n68WS83ZXPuL",
        "colab_type": "code",
        "colab": {}
      },
      "source": [
        "## build the network\n",
        "class Net(nn.Module):\n",
        "    def __init__(self):\n",
        "        super(Net, self).__init__()\n",
        "        self.conv1 = nn.Conv2d(1, 10, kernel_size=5)\n",
        "        self.conv2 = nn.Conv2d(10, 20, kernel_size=5)\n",
        "        self.conv2_drop = nn.Dropout2d()\n",
        "        self.fc1 = nn.Linear(320, 50)\n",
        "        self.fc2 = nn.Linear(50, 10)\n",
        "\n",
        "    def forward(self, x):\n",
        "        x = F.relu(F.max_pool2d(self.conv1(x), 2))\n",
        "        x = F.relu(F.max_pool2d(self.conv2_drop(self.conv2(x)), 2))\n",
        "        x = x.view(-1, 320)\n",
        "        x = F.relu(self.fc1(x))\n",
        "        x = F.dropout(x, training=self.training)\n",
        "        x = self.fc2(x)\n",
        "        return F.log_softmax(x)"
      ],
      "execution_count": 0,
      "outputs": []
    },
    {
      "cell_type": "markdown",
      "metadata": {
        "id": "y-TPfXVZ5z8t",
        "colab_type": "text"
      },
      "source": [
        "We will use the CrossEntropyLoss as a loss because we are facing a classification task, and we will use the famous SGD optimizer to optimize the network."
      ]
    },
    {
      "cell_type": "code",
      "metadata": {
        "id": "uj8q3Yg4X0ko",
        "colab_type": "code",
        "colab": {}
      },
      "source": [
        "model = Net()\n",
        "optimizer = optim.SGD(model.parameters(), lr=0.001)\n",
        "device = torch.device(\"cuda:0\" if torch.cuda.is_available() else \"cpu\")\n",
        "criterion = nn.CrossEntropyLoss().to(device)"
      ],
      "execution_count": 0,
      "outputs": []
    },
    {
      "cell_type": "markdown",
      "metadata": {
        "id": "YRCNNEdW60w9",
        "colab_type": "text"
      },
      "source": [
        "Let's define a helper method that will train the model"
      ]
    },
    {
      "cell_type": "code",
      "metadata": {
        "id": "klEPquNs_dI3",
        "colab_type": "code",
        "colab": {}
      },
      "source": [
        "def train_model(model, criterion, optimizer, num_epochs=25):\n",
        "    since = time.time()\n",
        "\n",
        "    best_model_wts = copy.deepcopy(model.state_dict())\n",
        "    best_acc = 0.0\n",
        "\n",
        "    for epoch in range(num_epochs):\n",
        "\n",
        "        # Each epoch has a training and validation phase\n",
        "        for phase in ['train', 'val']:\n",
        "            if phase == 'train':\n",
        "                model.train()  # Set model to training mode\n",
        "            else:\n",
        "                model.eval()   # Set model to evaluate mode\n",
        "\n",
        "            running_loss = 0.0\n",
        "            running_corrects = 0\n",
        "\n",
        "            # Iterate over data.\n",
        "            for inputs, labels in dataloaders[phase]:\n",
        "                inputs = inputs.to(device)\n",
        "                labels = labels.to(device)\n",
        "\n",
        "                # zero the parameter gradients\n",
        "                optimizer.zero_grad()\n",
        "\n",
        "                # forward\n",
        "                # track history if only in train\n",
        "                with torch.set_grad_enabled(phase == 'train'):\n",
        "                    outputs = model(inputs)\n",
        "                    _, preds = torch.max(outputs, 1)\n",
        "                    loss = criterion(outputs, labels)\n",
        "\n",
        "                    # backward + optimize only if in training phase\n",
        "                    if phase == 'train':\n",
        "                        loss.backward()\n",
        "                        optimizer.step()\n",
        "\n",
        "                # statistics\n",
        "                running_loss += loss.item() * inputs.size(0)\n",
        "                running_corrects += torch.sum(preds == labels.data)\n",
        "\n",
        "            epoch_loss = running_loss / len(dataloaders[phase].dataset)\n",
        "            epoch_acc = running_corrects.double() / len(dataloaders[phase].dataset)\n",
        "\n",
        "\n",
        "            # deep copy the model\n",
        "            if phase == 'val' and epoch_acc > best_acc:\n",
        "                best_acc = epoch_acc\n",
        "                best_model_wts = copy.deepcopy(model.state_dict())\n",
        "\n",
        "\n",
        "    time_elapsed = time.time() - since\n",
        "\n",
        "    # load best model weights\n",
        "    model.load_state_dict(best_model_wts)\n",
        "    return best_acc.item()"
      ],
      "execution_count": 0,
      "outputs": []
    },
    {
      "cell_type": "markdown",
      "metadata": {
        "id": "PnMnM7gDAua2",
        "colab_type": "text"
      },
      "source": [
        "In order to evaluate this method, we will train the same network several times, using the same hyperparameters, but only change the learning rate. First we will launch the learning rate finder method to find the optimal learning rate."
      ]
    },
    {
      "cell_type": "code",
      "metadata": {
        "id": "PNpFIhmMX70F",
        "colab_type": "code",
        "outputId": "a04bd697-1282-44d3-c6e6-b80d4b79663a",
        "colab": {
          "base_uri": "https://localhost:8080/",
          "height": 467
        }
      },
      "source": [
        "model = Net()\n",
        "optimizer = optim.SGD(model.parameters(), lr=0.1)\n",
        "lr_finder = LRFinder(model, optimizer, criterion)\n",
        "lr_finder.find(train_loader)\n",
        "plt.figure(figsize=(6,6))\n",
        "lr_finder.plot()"
      ],
      "execution_count": 9,
      "outputs": [
        {
          "output_type": "stream",
          "text": [
            " 89%|████████▉ | 89/100 [00:00<00:00, 91.63it/s]\n"
          ],
          "name": "stderr"
        },
        {
          "output_type": "stream",
          "text": [
            "LR Finder is complete. See the graph using `.plot()` method.\n",
            "Min numerical gradient: 0.39810717055349676\n",
            "Min loss: 0.7585775750291828\n"
          ],
          "name": "stdout"
        },
        {
          "output_type": "display_data",
          "data": {
            "image/png": "[encoded data removed]",
            "text/plain": [
              "<Figure size 432x432 with 1 Axes>"
            ]
          },
          "metadata": {
            "tags": []
          }
        }
      ]
    },
    {
      "cell_type": "markdown",
      "metadata": {
        "id": "Xs84MWgkDvHK",
        "colab_type": "text"
      },
      "source": [
        "After observing the graph, and following the instructions mentioned above, we will choose the value 0.1 for the learning rate.\n",
        "As a result, we will compare this value with other learning rate values which are 1e-4, 1e-3, 1e-2, 1 and 10. For each value, we will train the model 5 times, and we will record the average value of the accuracy obtained. The results will be summarized in a table below."
      ]
    },
    {
      "cell_type": "code",
      "metadata": {
        "id": "jFQhFtUyY9kh",
        "colab_type": "code",
        "colab": {
          "base_uri": "https://localhost:8080/",
          "height": 161
        },
        "outputId": "87f293db-77b9-4d1e-bff7-78f8872cce1e"
      },
      "source": [
        "lrs = [1e-4, 1e-3, 1e-2, 0.1, 1, 10]\n",
        "repeat = 5\n",
        "accs = defaultdict(list)\n",
        "for lr in tqdm(lrs):\n",
        "    for _ in range(repeat):\n",
        "        model = Net().to(device)\n",
        "        optimizer = optim.SGD(model.parameters(), lr=lr)\n",
        "        acc = train_model(model, criterion, optimizer, num_epochs=3)\n",
        "        accs[lr].append(acc)"
      ],
      "execution_count": 32,
      "outputs": [
        {
          "output_type": "stream",
          "text": [
            "\n",
            "  0%|          | 0/6 [00:00<?, ?it/s]\u001b[A\n",
            " 17%|█▋        | 1/6 [02:43<13:38, 163.62s/it]\u001b[A\n",
            " 33%|███▎      | 2/6 [05:26<10:53, 163.29s/it]\u001b[A\n",
            " 50%|█████     | 3/6 [08:08<08:08, 162.99s/it]\u001b[A\n",
            " 67%|██████▋   | 4/6 [10:50<05:25, 162.65s/it]\u001b[A\n",
            " 83%|████████▎ | 5/6 [13:34<02:43, 163.02s/it]\u001b[A\n",
            "100%|██████████| 6/6 [16:18<00:00, 163.38s/it]\u001b[A\n",
            "\u001b[A"
          ],
          "name": "stderr"
        }
      ]
    },
    {
      "cell_type": "code",
      "metadata": {
        "id": "CpfxpEUyGICq",
        "colab_type": "code",
        "colab": {
          "base_uri": "https://localhost:8080/",
          "height": 89
        },
        "outputId": "0ca99747-e4b6-4e88-d8fa-df14de73a437"
      },
      "source": [
        "means = [\"means\"] + [np.mean(accs[lr]) for lr in lrs]\n",
        "stds = [\"stds\"] + [np.std(accs[lr]) for lr in lrs]\n",
        "print(tabulate([means, stds], headers=[\"lrs\"] + lrs))"
      ],
      "execution_count": 80,
      "outputs": [
        {
          "output_type": "stream",
          "text": [
            "lrs       0.0001      0.001        0.01         0.1           1          10\n",
            "-----  ---------  ---------  ----------  ----------  ----------  ----------\n",
            "means  0.17946    0.74826    0.95522     0.98172     0.1073      0.10414\n",
            "stds   0.0407632  0.0746226  0.00278381  0.00141619  0.00759342  0.00507685\n"
          ],
          "name": "stdout"
        }
      ]
    },
    {
      "cell_type": "markdown",
      "metadata": {
        "id": "j9jWEEmoSFCq",
        "colab_type": "text"
      },
      "source": [
        "Et Voila! as we can see, the learning rate suggested by lr_finder gives the best result."
      ]
    }
  ]
}